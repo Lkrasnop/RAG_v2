{
 "cells": [
  {
   "cell_type": "markdown",
   "metadata": {},
   "source": []
  },
  {
   "cell_type": "code",
   "execution_count": 1,
   "metadata": {},
   "outputs": [],
   "source": [
    "import os\n",
    "from langchain.text_splitter import CharacterTextSplitter , RecursiveCharacterTextSplitter\n",
    "from langchain_community.document_loaders import TextLoader\n",
    "from langchain_community.vectorstores import chroma\n",
    "from langchain_openai import OpenAIEmbeddings"
   ]
  },
  {
   "cell_type": "code",
   "execution_count": 6,
   "metadata": {},
   "outputs": [],
   "source": [
    "# current_dir = os.path.dirname(os.path.abspath(__file__))\n",
    "current_dir = os.getcwd()\n",
    "file_path = os.path.join(current_dir,\"text\",\"test.txt\")\n",
    "persist_dir = os.path.join(current_dir,\"db\",\"chroma_db\")"
   ]
  },
  {
   "cell_type": "code",
   "execution_count": 29,
   "metadata": {},
   "outputs": [],
   "source": [
    "if not os.path.exists(file_path):\n",
    "    raise FileNotFoundError(f\"file {file_path} is not exists , please check the path\")\n",
    "loader = TextLoader(file_path)  \n",
    "documents = loader.load()\n",
    "text_split = RecursiveCharacterTextSplitter(\n",
    "    chunk_size=500,\n",
    "    chunk_overlap=50,\n",
    "    length_function=len,\n",
    "    is_separator_regex=False,\n",
    ")\n",
    "docs = text_split.split_documents(documents) "
   ]
  },
  {
   "cell_type": "code",
   "execution_count": 30,
   "metadata": {},
   "outputs": [
    {
     "name": "stdout",
     "output_type": "stream",
     "text": [
      "number of documents : 66\n",
      "sample chunk: \n",
      "Technology in Society 78 (2024) 102644\n",
      "Available online 20 June 2024\n",
      "0160-791X/© 2024 The Authors. Published by Elsevier Ltd. This is an open access article under the CC BY license ( http://creativecommons.org/licenses/by/4.0/ ).Addressing the notion of trust around ChatGPT in the high-stakes use case \n",
      "of insurance \n",
      "Juliane Ressela,*, Michaele Vollerb, Finbarr Murphya, Martin Mullinsa \n",
      "aKemmy Business School, University of Limerick, Limerick, V94 T9PX, Ireland\n",
      "\n"
     ]
    }
   ],
   "source": [
    "print(f\"number of documents : {len(docs)}\")\n",
    "print(f\"sample chunk: \\n{docs[0].page_content}\\n\")"
   ]
  }
 ],
 "metadata": {
  "kernelspec": {
   "display_name": "Python 3",
   "language": "python",
   "name": "python3"
  },
  "language_info": {
   "codemirror_mode": {
    "name": "ipython",
    "version": 3
   },
   "file_extension": ".py",
   "mimetype": "text/x-python",
   "name": "python",
   "nbconvert_exporter": "python",
   "pygments_lexer": "ipython3",
   "version": "3.10.13"
  }
 },
 "nbformat": 4,
 "nbformat_minor": 2
}
